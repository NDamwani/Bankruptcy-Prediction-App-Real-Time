{
 "cells": [
  {
   "cell_type": "code",
   "execution_count": 1,
   "id": "726ef028-83a8-46dc-9030-8368043f5b2c",
   "metadata": {},
   "outputs": [],
   "source": [
    "import pandas as pd\n",
    "import numpy as np"
   ]
  },
  {
   "cell_type": "code",
   "execution_count": 2,
   "id": "ba998612-b824-4928-a37b-92f17378e361",
   "metadata": {},
   "outputs": [
    {
     "data": {
      "text/html": [
       "<div>\n",
       "<style scoped>\n",
       "    .dataframe tbody tr th:only-of-type {\n",
       "        vertical-align: middle;\n",
       "    }\n",
       "\n",
       "    .dataframe tbody tr th {\n",
       "        vertical-align: top;\n",
       "    }\n",
       "\n",
       "    .dataframe thead th {\n",
       "        text-align: right;\n",
       "    }\n",
       "</style>\n",
       "<table border=\"1\" class=\"dataframe\">\n",
       "  <thead>\n",
       "    <tr style=\"text-align: right;\">\n",
       "      <th></th>\n",
       "      <th>Company Name</th>\n",
       "      <th>CIN Number</th>\n",
       "      <th>BankRupt</th>\n",
       "      <th>PROFIT_T</th>\n",
       "      <th>PROFIT_T-1</th>\n",
       "      <th>PROFIT_T-2</th>\n",
       "      <th>PROFIT_T-3</th>\n",
       "      <th>PROFIT_Diff_t</th>\n",
       "      <th>PROFIT_Diff_t-1</th>\n",
       "      <th>PROFIT_Diff_t-2</th>\n",
       "      <th>...</th>\n",
       "      <th>EBIT_MA_4_T</th>\n",
       "      <th>Current_Diff_T</th>\n",
       "      <th>Current_Diff_T-1</th>\n",
       "      <th>Current_Diff_T-2</th>\n",
       "      <th>Current_PercentChange_T</th>\n",
       "      <th>Current_PercentChange_T-1</th>\n",
       "      <th>Current_PercentChange_T-2</th>\n",
       "      <th>Current_MA_2_T</th>\n",
       "      <th>Current_MA_3_T</th>\n",
       "      <th>Current_MA_4_T</th>\n",
       "    </tr>\n",
       "  </thead>\n",
       "  <tbody>\n",
       "    <tr>\n",
       "      <th>0</th>\n",
       "      <td>A &amp; P EXIM PVT LTD</td>\n",
       "      <td>U51909WB1992PTC057075</td>\n",
       "      <td>0.0</td>\n",
       "      <td>4.166667</td>\n",
       "      <td>3.030303</td>\n",
       "      <td>3.571429</td>\n",
       "      <td>7.142857</td>\n",
       "      <td>1.136364</td>\n",
       "      <td>-0.541126</td>\n",
       "      <td>-3.571429</td>\n",
       "      <td>...</td>\n",
       "      <td>0.044634</td>\n",
       "      <td>-0.019129</td>\n",
       "      <td>0.071799</td>\n",
       "      <td>0.000714</td>\n",
       "      <td>-0.008114</td>\n",
       "      <td>0.031412</td>\n",
       "      <td>0.000313</td>\n",
       "      <td>2.347948</td>\n",
       "      <td>2.327204</td>\n",
       "      <td>2.316653</td>\n",
       "    </tr>\n",
       "    <tr>\n",
       "      <th>1</th>\n",
       "      <td>A A INFRAPROPERTIES PRIVATE LIMITED</td>\n",
       "      <td>U45400WB2009PTC136476</td>\n",
       "      <td>0.0</td>\n",
       "      <td>-19490.697670</td>\n",
       "      <td>41.935484</td>\n",
       "      <td>-297.849462</td>\n",
       "      <td>-4.413533</td>\n",
       "      <td>-19532.633154</td>\n",
       "      <td>339.784946</td>\n",
       "      <td>-293.435930</td>\n",
       "      <td>...</td>\n",
       "      <td>-0.033197</td>\n",
       "      <td>-0.090546</td>\n",
       "      <td>0.020508</td>\n",
       "      <td>0.963098</td>\n",
       "      <td>-0.091397</td>\n",
       "      <td>0.021138</td>\n",
       "      <td>136.125200</td>\n",
       "      <td>0.945408</td>\n",
       "      <td>0.953663</td>\n",
       "      <td>0.717016</td>\n",
       "    </tr>\n",
       "    <tr>\n",
       "      <th>2</th>\n",
       "      <td>A AND M INSURANCE BROKERS PRIVATE LIMITED</td>\n",
       "      <td>U67200DL2002PTC117353</td>\n",
       "      <td>0.0</td>\n",
       "      <td>5.464481</td>\n",
       "      <td>6.189821</td>\n",
       "      <td>6.202723</td>\n",
       "      <td>6.413994</td>\n",
       "      <td>-0.725340</td>\n",
       "      <td>-0.012902</td>\n",
       "      <td>-0.211271</td>\n",
       "      <td>...</td>\n",
       "      <td>0.149470</td>\n",
       "      <td>0.249924</td>\n",
       "      <td>0.083653</td>\n",
       "      <td>0.228294</td>\n",
       "      <td>0.171885</td>\n",
       "      <td>0.061044</td>\n",
       "      <td>0.199894</td>\n",
       "      <td>1.578985</td>\n",
       "      <td>1.509447</td>\n",
       "      <td>1.417604</td>\n",
       "    </tr>\n",
       "    <tr>\n",
       "      <th>3</th>\n",
       "      <td>A S P ENTERPRISES PRIVATE LIMITED</td>\n",
       "      <td>U65900MH1996PTC102048</td>\n",
       "      <td>0.0</td>\n",
       "      <td>33.333333</td>\n",
       "      <td>25.000000</td>\n",
       "      <td>0.000000</td>\n",
       "      <td>0.000000</td>\n",
       "      <td>8.333333</td>\n",
       "      <td>25.000000</td>\n",
       "      <td>0.000000</td>\n",
       "      <td>...</td>\n",
       "      <td>0.001766</td>\n",
       "      <td>-0.185321</td>\n",
       "      <td>3.368695</td>\n",
       "      <td>0.500000</td>\n",
       "      <td>-0.038064</td>\n",
       "      <td>2.245797</td>\n",
       "      <td>0.500000</td>\n",
       "      <td>4.776034</td>\n",
       "      <td>3.684023</td>\n",
       "      <td>3.013017</td>\n",
       "    </tr>\n",
       "    <tr>\n",
       "      <th>4</th>\n",
       "      <td>A TO Z FOREX PRIVATE LIMITED</td>\n",
       "      <td>U65999GJ2003PTC043097</td>\n",
       "      <td>0.0</td>\n",
       "      <td>0.105374</td>\n",
       "      <td>-0.077640</td>\n",
       "      <td>0.000000</td>\n",
       "      <td>0.029949</td>\n",
       "      <td>0.183014</td>\n",
       "      <td>-0.077640</td>\n",
       "      <td>-0.029949</td>\n",
       "      <td>...</td>\n",
       "      <td>0.009743</td>\n",
       "      <td>10.663889</td>\n",
       "      <td>-0.313069</td>\n",
       "      <td>-0.037027</td>\n",
       "      <td>6.142400</td>\n",
       "      <td>-0.152778</td>\n",
       "      <td>-0.017748</td>\n",
       "      <td>7.068056</td>\n",
       "      <td>5.395097</td>\n",
       "      <td>4.567875</td>\n",
       "    </tr>\n",
       "  </tbody>\n",
       "</table>\n",
       "<p>5 rows × 64 columns</p>\n",
       "</div>"
      ],
      "text/plain": [
       "                                Company Name             CIN Number  BankRupt  \\\n",
       "0                         A & P EXIM PVT LTD  U51909WB1992PTC057075       0.0   \n",
       "1        A A INFRAPROPERTIES PRIVATE LIMITED  U45400WB2009PTC136476       0.0   \n",
       "2  A AND M INSURANCE BROKERS PRIVATE LIMITED  U67200DL2002PTC117353       0.0   \n",
       "3          A S P ENTERPRISES PRIVATE LIMITED  U65900MH1996PTC102048       0.0   \n",
       "4               A TO Z FOREX PRIVATE LIMITED  U65999GJ2003PTC043097       0.0   \n",
       "\n",
       "       PROFIT_T  PROFIT_T-1  PROFIT_T-2  PROFIT_T-3  PROFIT_Diff_t  \\\n",
       "0      4.166667    3.030303    3.571429    7.142857       1.136364   \n",
       "1 -19490.697670   41.935484 -297.849462   -4.413533  -19532.633154   \n",
       "2      5.464481    6.189821    6.202723    6.413994      -0.725340   \n",
       "3     33.333333   25.000000    0.000000    0.000000       8.333333   \n",
       "4      0.105374   -0.077640    0.000000    0.029949       0.183014   \n",
       "\n",
       "   PROFIT_Diff_t-1  PROFIT_Diff_t-2  ...  EBIT_MA_4_T  Current_Diff_T  \\\n",
       "0        -0.541126        -3.571429  ...     0.044634       -0.019129   \n",
       "1       339.784946      -293.435930  ...    -0.033197       -0.090546   \n",
       "2        -0.012902        -0.211271  ...     0.149470        0.249924   \n",
       "3        25.000000         0.000000  ...     0.001766       -0.185321   \n",
       "4        -0.077640        -0.029949  ...     0.009743       10.663889   \n",
       "\n",
       "   Current_Diff_T-1  Current_Diff_T-2  Current_PercentChange_T  \\\n",
       "0          0.071799          0.000714                -0.008114   \n",
       "1          0.020508          0.963098                -0.091397   \n",
       "2          0.083653          0.228294                 0.171885   \n",
       "3          3.368695          0.500000                -0.038064   \n",
       "4         -0.313069         -0.037027                 6.142400   \n",
       "\n",
       "   Current_PercentChange_T-1  Current_PercentChange_T-2  Current_MA_2_T  \\\n",
       "0                   0.031412                   0.000313        2.347948   \n",
       "1                   0.021138                 136.125200        0.945408   \n",
       "2                   0.061044                   0.199894        1.578985   \n",
       "3                   2.245797                   0.500000        4.776034   \n",
       "4                  -0.152778                  -0.017748        7.068056   \n",
       "\n",
       "   Current_MA_3_T  Current_MA_4_T  \n",
       "0        2.327204        2.316653  \n",
       "1        0.953663        0.717016  \n",
       "2        1.509447        1.417604  \n",
       "3        3.684023        3.013017  \n",
       "4        5.395097        4.567875  \n",
       "\n",
       "[5 rows x 64 columns]"
      ]
     },
     "execution_count": 2,
     "metadata": {},
     "output_type": "execute_result"
    }
   ],
   "source": [
    "df = pd.read_excel(\"CompletedDataset.xlsx\")\n",
    "df.head()"
   ]
  },
  {
   "cell_type": "code",
   "execution_count": 3,
   "id": "b265996e-b824-4e7e-a2d5-b9e160bc9076",
   "metadata": {},
   "outputs": [
    {
     "data": {
      "text/plain": [
       "BankRupt\n",
       "0.0    47126\n",
       "1.0      847\n",
       "Name: count, dtype: int64"
      ]
     },
     "execution_count": 3,
     "metadata": {},
     "output_type": "execute_result"
    }
   ],
   "source": [
    "df[\"BankRupt\"].value_counts()"
   ]
  },
  {
   "cell_type": "code",
   "execution_count": 4,
   "id": "520fe2cb-de62-4e7b-8aae-29bd4037e97f",
   "metadata": {},
   "outputs": [],
   "source": [
    "df = df.dropna(subset=['BankRupt'], axis=0)"
   ]
  },
  {
   "cell_type": "code",
   "execution_count": 5,
   "id": "3d24add2-0315-42e8-9959-105d028dd2fa",
   "metadata": {},
   "outputs": [
    {
     "data": {
      "text/plain": [
       "Company Name                   0\n",
       "CIN Number                     9\n",
       "BankRupt                       0\n",
       "PROFIT_T                       0\n",
       "PROFIT_T-1                     0\n",
       "                            ... \n",
       "Current_PercentChange_T-1    331\n",
       "Current_PercentChange_T-2    307\n",
       "Current_MA_2_T                 0\n",
       "Current_MA_3_T                 0\n",
       "Current_MA_4_T                 0\n",
       "Length: 64, dtype: int64"
      ]
     },
     "execution_count": 5,
     "metadata": {},
     "output_type": "execute_result"
    }
   ],
   "source": [
    "df.isnull().sum()"
   ]
  },
  {
   "cell_type": "code",
   "execution_count": 6,
   "id": "e6e51d9c-094c-4a69-b01d-90581d00cff0",
   "metadata": {},
   "outputs": [],
   "source": [
    "from imblearn.over_sampling import SMOTE\n",
    "from collections import Counter\n",
    "from sklearn.impute import SimpleImputer"
   ]
  },
  {
   "cell_type": "code",
   "execution_count": 7,
   "id": "1d0b5a04-32fa-4ddc-a75c-b0090e7792b5",
   "metadata": {},
   "outputs": [],
   "source": [
    "df = df.drop(['Company Name', 'CIN Number'], axis=1)"
   ]
  },
  {
   "cell_type": "code",
   "execution_count": 8,
   "id": "6b4d8c5d-d499-400e-9b22-1939b2adbe24",
   "metadata": {},
   "outputs": [],
   "source": [
    "#df.head()"
   ]
  },
  {
   "cell_type": "code",
   "execution_count": 9,
   "id": "fb2d3036-e140-4af4-b169-429145a85b3c",
   "metadata": {},
   "outputs": [],
   "source": [
    "# Separate features and target\n",
    "X = df.drop(columns=['BankRupt'])\n",
    "y = df['BankRupt']"
   ]
  },
  {
   "cell_type": "code",
   "execution_count": 10,
   "id": "1576114f-b346-4459-ac85-16c71e21851c",
   "metadata": {},
   "outputs": [],
   "source": [
    "# Handle missing values (e.g., by imputing the mean for numeric features)\n",
    "imputer = SimpleImputer(strategy='mean')  # You can change the strategy to 'median' or 'most_frequent'\n",
    "X_imputed = imputer.fit_transform(X)"
   ]
  },
  {
   "cell_type": "code",
   "execution_count": 11,
   "id": "a9633a03-48ae-4e7e-8e88-7cf813936c8c",
   "metadata": {},
   "outputs": [
    {
     "name": "stdout",
     "output_type": "stream",
     "text": [
      "Initial class distribution: Counter({0.0: 47126, 1.0: 847})\n"
     ]
    }
   ],
   "source": [
    "# Check the initial class distribution\n",
    "initial_class_distribution = Counter(y)\n",
    "print(f\"Initial class distribution: {initial_class_distribution}\")"
   ]
  },
  {
   "cell_type": "code",
   "execution_count": 12,
   "id": "cfa6408e-a3b3-4916-8445-a3baa6aed460",
   "metadata": {},
   "outputs": [],
   "source": [
    "# Apply SMOTE\n",
    "smote = SMOTE(sampling_strategy=0.2, random_state=42)\n",
    "X_resampled, y_resampled = smote.fit_resample(X_imputed, y)"
   ]
  },
  {
   "cell_type": "code",
   "execution_count": 13,
   "id": "56a6451a-8c4a-4993-9400-8da795c04c0c",
   "metadata": {},
   "outputs": [
    {
     "name": "stdout",
     "output_type": "stream",
     "text": [
      "Resampled class distribution: Counter({0.0: 47126, 1.0: 9425})\n"
     ]
    }
   ],
   "source": [
    "# Check the class distribution after SMOTE\n",
    "resampled_class_distribution = Counter(y_resampled)\n",
    "print(f\"Resampled class distribution: {resampled_class_distribution}\")"
   ]
  },
  {
   "cell_type": "code",
   "execution_count": 14,
   "id": "da706972-fe90-463a-8643-f98ccef35d6f",
   "metadata": {},
   "outputs": [],
   "source": [
    "# Combine the resampled data into a DataFrame\n",
    "df_resampled = pd.DataFrame(X_resampled, columns=X.columns)\n",
    "df_resampled['BankRupt'] = y_resampled"
   ]
  },
  {
   "cell_type": "code",
   "execution_count": 15,
   "id": "3c95f5a9-98f7-4e05-a7a9-2fb5deb0a0b1",
   "metadata": {},
   "outputs": [],
   "source": [
    "# Save the resampled dataset to a new Excel file\n",
    "df_resampled.to_csv(\"NewResampledFile.csv\", index=False)"
   ]
  },
  {
   "cell_type": "code",
   "execution_count": null,
   "id": "b5bbc55e-9754-4289-8ecd-c26400150f29",
   "metadata": {},
   "outputs": [],
   "source": []
  }
 ],
 "metadata": {
  "kernelspec": {
   "display_name": "Python 3 (ipykernel)",
   "language": "python",
   "name": "python3"
  },
  "language_info": {
   "codemirror_mode": {
    "name": "ipython",
    "version": 3
   },
   "file_extension": ".py",
   "mimetype": "text/x-python",
   "name": "python",
   "nbconvert_exporter": "python",
   "pygments_lexer": "ipython3",
   "version": "3.10.13"
  }
 },
 "nbformat": 4,
 "nbformat_minor": 5
}
